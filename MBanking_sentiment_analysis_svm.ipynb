{
  "nbformat": 4,
  "nbformat_minor": 0,
  "metadata": {
    "colab": {
      "name": "MBanking-sentiment-analysis-svm.ipynb",
      "provenance": []
    },
    "kernelspec": {
      "name": "python3",
      "display_name": "Python 3"
    },
    "language_info": {
      "name": "python"
    }
  },
  "cells": [
    {
      "cell_type": "markdown",
      "source": [
        "## Install Library"
      ],
      "metadata": {
        "id": "Eduh_gGlho43"
      }
    },
    {
      "cell_type": "code",
      "source": [
        "!pip install google-play-scraper"
      ],
      "metadata": {
        "colab": {
          "base_uri": "https://localhost:8080/"
        },
        "id": "s08TqstWMvQ9",
        "outputId": "256a9bde-0bf2-4f1d-ae93-236c18816fbc"
      },
      "execution_count": 21,
      "outputs": [
        {
          "output_type": "stream",
          "name": "stdout",
          "text": [
            "Requirement already satisfied: google-play-scraper in /usr/local/lib/python3.7/dist-packages (1.0.2)\n"
          ]
        }
      ]
    },
    {
      "cell_type": "markdown",
      "source": [
        "## Import Library"
      ],
      "metadata": {
        "id": "n69rcB37htXR"
      }
    },
    {
      "cell_type": "code",
      "source": [
        "import time\n",
        "from sklearn import svm\n",
        "from sklearn.metrics import classification_report"
      ],
      "metadata": {
        "id": "wYfFINMkUKzc"
      },
      "execution_count": 22,
      "outputs": []
    },
    {
      "cell_type": "code",
      "source": [
        "from sklearn.feature_extraction.text import TfidfVectorizer"
      ],
      "metadata": {
        "id": "70HOXWuEignL"
      },
      "execution_count": 23,
      "outputs": []
    },
    {
      "cell_type": "code",
      "source": [
        "from google_play_scraper import app, Sort, reviews_all"
      ],
      "metadata": {
        "id": "IQ11L1QQOyfM"
      },
      "execution_count": 24,
      "outputs": []
    },
    {
      "cell_type": "code",
      "source": [
        "import numpy as np\n",
        "import pandas as pd"
      ],
      "metadata": {
        "id": "W56MPkINPJBY"
      },
      "execution_count": 25,
      "outputs": []
    },
    {
      "cell_type": "markdown",
      "source": [
        "## Scraping Mobile Banking Review Data"
      ],
      "metadata": {
        "id": "ruqmpQRwhwEp"
      }
    },
    {
      "cell_type": "markdown",
      "source": [
        "Create empty dataframe"
      ],
      "metadata": {
        "id": "yeedU4xxh_jk"
      }
    },
    {
      "cell_type": "code",
      "source": [
        "df_review = pd.DataFrame(columns = ['userName', 'content', 'score'])"
      ],
      "metadata": {
        "id": "G42ImSV6er7q"
      },
      "execution_count": 26,
      "outputs": []
    },
    {
      "cell_type": "markdown",
      "source": [
        "Mobile Banking ID in Play Store (Using BNI, BCA, BRI, and BSI Review Data)"
      ],
      "metadata": {
        "id": "uLK85khch2d8"
      }
    },
    {
      "cell_type": "code",
      "source": [
        "def getPlaystore(number):\n",
        "  if number == 1:\n",
        "    return 'src.com.bni'\n",
        "  elif number == 2:\n",
        "    return 'com.bca'\n",
        "  elif number == 3:\n",
        "    return 'id.bmri.livin'\n",
        "  elif number == 4:\n",
        "    return 'id.co.bri.brimo'\n",
        "  elif number == 5:\n",
        "    return 'com.bsm.activity2'"
      ],
      "metadata": {
        "id": "Wx-cFj-rdCvI"
      },
      "execution_count": 27,
      "outputs": []
    },
    {
      "cell_type": "markdown",
      "source": [
        "Run Scraper and append to exisiting DataFrame"
      ],
      "metadata": {
        "id": "R081_a0JiDEh"
      }
    },
    {
      "cell_type": "code",
      "source": [
        "for apps in range(1,6):\n",
        "  link_apps = getPlaystore(apps)\n",
        "  id_reviews = reviews_all(link_apps,\n",
        "                        sleep_milliseconds=0,\n",
        "                        country='id',\n",
        "                        sort=Sort.NEWEST\n",
        "                        )\n",
        "  df_scraping = pd.DataFrame(np.array(id_reviews), columns=['review'])\n",
        "  df_scraping = df_scraping.join(pd.DataFrame(df_scraping.pop('review').tolist()))\n",
        "  df_scraping = df_scraping[['userName','content','score']]\n",
        "  df_review = df_review.append(df_scraping, ignore_index = True)"
      ],
      "metadata": {
        "id": "mfEwkDbgeNdf"
      },
      "execution_count": 28,
      "outputs": []
    },
    {
      "cell_type": "code",
      "source": [
        "df_review['content'] = df_review['content'].astype(str)"
      ],
      "metadata": {
        "id": "yr-E2aCFO6DN"
      },
      "execution_count": 9,
      "outputs": []
    },
    {
      "cell_type": "markdown",
      "source": [
        "Check Amount of Review Data"
      ],
      "metadata": {
        "id": "L0BOZELDjMWC"
      }
    },
    {
      "cell_type": "code",
      "source": [
        "print('Amount of data: ' + str(len(df_review)))"
      ],
      "metadata": {
        "colab": {
          "base_uri": "https://localhost:8080/"
        },
        "id": "VwBZNC5yjCAC",
        "outputId": "eadc6a70-62d7-4645-b246-d6cd9d363d50"
      },
      "execution_count": 44,
      "outputs": [
        {
          "output_type": "stream",
          "name": "stdout",
          "text": [
            "Amount of data: 101055\n"
          ]
        }
      ]
    },
    {
      "cell_type": "markdown",
      "source": [
        "Labeling 'pos' and 'neg' based on star<br>\n",
        "\n",
        "*   1-3 Star = Negative <br>\n",
        "*   4-5 Star = Positive "
      ],
      "metadata": {
        "id": "fm9ihWKziJPw"
      }
    },
    {
      "cell_type": "code",
      "source": [
        "def labeling(score):\n",
        "  if score <= 3:\n",
        "    return 'neg'\n",
        "  elif score > 3:\n",
        "    return 'pos'"
      ],
      "metadata": {
        "id": "fkqRK7tXPNLK"
      },
      "execution_count": 11,
      "outputs": []
    },
    {
      "cell_type": "code",
      "source": [
        "df_review['label'] = df_review['score'].map(lambda x: labeling(x))"
      ],
      "metadata": {
        "id": "BXMu5cWzRu2y"
      },
      "execution_count": 12,
      "outputs": []
    },
    {
      "cell_type": "code",
      "source": [
        "df_review.head()"
      ],
      "metadata": {
        "colab": {
          "base_uri": "https://localhost:8080/",
          "height": 206
        },
        "id": "iq5gMq31SEP1",
        "outputId": "8ee2fbf8-384b-4087-876f-5ede497360ce"
      },
      "execution_count": 13,
      "outputs": [
        {
          "output_type": "execute_result",
          "data": {
            "text/html": [
              "<div>\n",
              "<style scoped>\n",
              "    .dataframe tbody tr th:only-of-type {\n",
              "        vertical-align: middle;\n",
              "    }\n",
              "\n",
              "    .dataframe tbody tr th {\n",
              "        vertical-align: top;\n",
              "    }\n",
              "\n",
              "    .dataframe thead th {\n",
              "        text-align: right;\n",
              "    }\n",
              "</style>\n",
              "<table border=\"1\" class=\"dataframe\">\n",
              "  <thead>\n",
              "    <tr style=\"text-align: right;\">\n",
              "      <th></th>\n",
              "      <th>userName</th>\n",
              "      <th>content</th>\n",
              "      <th>score</th>\n",
              "      <th>label</th>\n",
              "    </tr>\n",
              "  </thead>\n",
              "  <tbody>\n",
              "    <tr>\n",
              "      <th>0</th>\n",
              "      <td>jenar mahesa aji</td>\n",
              "      <td>siip...🤸‍♀️</td>\n",
              "      <td>4</td>\n",
              "      <td>pos</td>\n",
              "    </tr>\n",
              "    <tr>\n",
              "      <th>1</th>\n",
              "      <td>agung susetyo</td>\n",
              "      <td>easy use and help full..</td>\n",
              "      <td>5</td>\n",
              "      <td>pos</td>\n",
              "    </tr>\n",
              "    <tr>\n",
              "      <th>2</th>\n",
              "      <td>Bram Brahmantiyo</td>\n",
              "      <td>cukup membantu</td>\n",
              "      <td>5</td>\n",
              "      <td>pos</td>\n",
              "    </tr>\n",
              "    <tr>\n",
              "      <th>3</th>\n",
              "      <td>Ulfah SF</td>\n",
              "      <td>good</td>\n",
              "      <td>5</td>\n",
              "      <td>pos</td>\n",
              "    </tr>\n",
              "    <tr>\n",
              "      <th>4</th>\n",
              "      <td>An an Santana Ginanjar</td>\n",
              "      <td>good job</td>\n",
              "      <td>5</td>\n",
              "      <td>pos</td>\n",
              "    </tr>\n",
              "  </tbody>\n",
              "</table>\n",
              "</div>"
            ],
            "text/plain": [
              "                 userName                   content score label\n",
              "0        jenar mahesa aji               siip...🤸‍♀️     4   pos\n",
              "1           agung susetyo  easy use and help full..     5   pos\n",
              "2        Bram Brahmantiyo            cukup membantu     5   pos\n",
              "3                Ulfah SF                      good     5   pos\n",
              "4  An an Santana Ginanjar                  good job     5   pos"
            ]
          },
          "metadata": {},
          "execution_count": 13
        }
      ]
    },
    {
      "cell_type": "markdown",
      "source": [
        "## Sentiment Analysis"
      ],
      "metadata": {
        "id": "ULJ2p0fWiRcI"
      }
    },
    {
      "cell_type": "markdown",
      "source": [
        "Split data (70% Training, 30% Test)"
      ],
      "metadata": {
        "id": "pk5Bu7w9iVSq"
      }
    },
    {
      "cell_type": "code",
      "source": [
        "from sklearn.model_selection import train_test_split\n",
        "\n",
        "train, test = train_test_split(df_review, test_size=0.3)"
      ],
      "metadata": {
        "id": "-WrgAKZITGM6"
      },
      "execution_count": 14,
      "outputs": []
    },
    {
      "cell_type": "markdown",
      "source": [
        "Vectorize review text using TFIDF"
      ],
      "metadata": {
        "id": "m5-0vH6qihP_"
      }
    },
    {
      "cell_type": "code",
      "source": [
        "vectorizer = TfidfVectorizer(min_df = 5,\n",
        "                             max_df = 0.8,\n",
        "                             sublinear_tf = True,\n",
        "                             use_idf = True)\n",
        "train_vectors = vectorizer.fit_transform(train['content'])\n",
        "test_vectors = vectorizer.transform(test['content'])"
      ],
      "metadata": {
        "id": "Z5WCiHJsSHB3"
      },
      "execution_count": 15,
      "outputs": []
    },
    {
      "cell_type": "markdown",
      "source": [
        "Classification positive/negative review with Linear SVM"
      ],
      "metadata": {
        "id": "4D4yPGXyimZV"
      }
    },
    {
      "cell_type": "code",
      "source": [
        "classifier_linear = svm.SVC(kernel='linear')\n",
        "t0 = time.time()\n",
        "classifier_linear.fit(train_vectors, train['label'])\n",
        "t1 = time.time()\n",
        "prediction_linear = classifier_linear.predict(test_vectors)\n",
        "t2 = time.time()\n",
        "time_linear_train = t1-t0\n",
        "time_linear_predict = t2-t1\n",
        "# results\n",
        "print(\"Training time: %fs; Prediction time: %fs\" % (time_linear_train, time_linear_predict))\n",
        "report = classification_report(test['label'], prediction_linear, output_dict=True)\n",
        "print('positive: ', report['pos'])\n",
        "print('negative: ', report['neg'])"
      ],
      "metadata": {
        "colab": {
          "base_uri": "https://localhost:8080/"
        },
        "id": "XbuA4hCBTv3L",
        "outputId": "d354b917-fe09-4238-d878-e80916452a41"
      },
      "execution_count": 16,
      "outputs": [
        {
          "output_type": "stream",
          "name": "stdout",
          "text": [
            "Training time: 408.209574s; Prediction time: 70.502478s\n",
            "positive:  {'precision': 0.9286439817166074, 'recall': 0.8912990494759931, 'f1-score': 0.9095883596567591, 'support': 16412}\n",
            "negative:  {'precision': 0.8775145897699965, 'recall': 0.919165767709457, 'f1-score': 0.8978573937478048, 'support': 13905}\n"
          ]
        }
      ]
    },
    {
      "cell_type": "markdown",
      "source": [
        "Testing the Model"
      ],
      "metadata": {
        "id": "8nX0y04kiuch"
      }
    },
    {
      "cell_type": "code",
      "source": [
        "#Test Negative Review\n",
        "review = 'Bank XYZ selalu gangguan jaringan'\n",
        "review_vector = vectorizer.transform([review]) # vectorizing\n",
        "print(\"Prediction: \" + classifier_linear.predict(review_vector))"
      ],
      "metadata": {
        "colab": {
          "base_uri": "https://localhost:8080/"
        },
        "id": "hoPAw1q5T8lY",
        "outputId": "1214bc5c-7837-4a4c-b142-fb2400124202"
      },
      "execution_count": 34,
      "outputs": [
        {
          "output_type": "stream",
          "name": "stdout",
          "text": [
            "['Prediction: neg']\n"
          ]
        }
      ]
    },
    {
      "cell_type": "code",
      "source": [
        "#Test Positive Review\n",
        "review = 'Maju terus bank XYZ'\n",
        "review_vector = vectorizer.transform([review]) # vectorizing\n",
        "print(\"Prediction: \" + classifier_linear.predict(review_vector))"
      ],
      "metadata": {
        "colab": {
          "base_uri": "https://localhost:8080/"
        },
        "id": "2PXXFJhbvH-e",
        "outputId": "c4314294-7190-4add-bcc8-be712ea0e910"
      },
      "execution_count": 36,
      "outputs": [
        {
          "output_type": "stream",
          "name": "stdout",
          "text": [
            "['Prediction: pos']\n"
          ]
        }
      ]
    },
    {
      "cell_type": "code",
      "source": [
        "#Test Satire Review\n",
        "review = 'Bangga menggunakan bank XYZ karena lambat sekali'\n",
        "review_vector = vectorizer.transform([review]) # vectorizing\n",
        "print(\"Prediction: \" + classifier_linear.predict(review_vector))"
      ],
      "metadata": {
        "colab": {
          "base_uri": "https://localhost:8080/"
        },
        "id": "J2_WaqcYwBre",
        "outputId": "82fbf35d-0da8-474d-eb28-c7331e5d7522"
      },
      "execution_count": 41,
      "outputs": [
        {
          "output_type": "stream",
          "name": "stdout",
          "text": [
            "['Prediction: neg']\n"
          ]
        }
      ]
    }
  ]
}